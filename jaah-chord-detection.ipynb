{
 "cells": [
  {
   "cell_type": "code",
   "execution_count": 1,
   "metadata": {},
   "outputs": [],
   "source": [
    "#TODO remove\n",
    "#interesting code:\n",
    "#: https://github.com/reeanne/FinalProject/blob/cef6b45060ad9646f2be4de93c226aebeadec41b/essentia-master/src/examples/python/streaming_extractor/tonaldescriptors.py\n",
    "#https://github.com/LqNoob/Essentia/blob/7a70a25dd6668855b3677bd0cae0df190e319cbf/test/src/unittest/tonal/test_chordsdetection_streaming.py\n",
    "#∫imple one https://github.com/mariogearth/ChordsDetectionPython/blob/b69e813bef92a361e7cad0a58bbd0f049b252914/old%20stuff/chords_test3.py"
   ]
  },
  {
   "cell_type": "code",
   "execution_count": 2,
   "metadata": {},
   "outputs": [],
   "source": [
    "#Look at TODOs!!"
   ]
  },
  {
   "cell_type": "code",
   "execution_count": 3,
   "metadata": {},
   "outputs": [],
   "source": [
    "import sys, os\n",
    "import numpy as np\n",
    "import pandas as pd\n",
    "from collections import Counter\n",
    "\n",
    "import matplotlib\n",
    "import matplotlib.pyplot as plt\n",
    "from matplotlib.patches import Polygon\n",
    "from matplotlib.collections import PatchCollection\n",
    "%matplotlib inline\n",
    "\n",
    "import essentia, essentia.standard, essentia.streaming\n",
    "import essentia.standard as ess\n",
    "from essentia.streaming import *"
   ]
  },
  {
   "cell_type": "code",
   "execution_count": 7,
   "metadata": {},
   "outputs": [],
   "source": [
    "'''\n",
    "UTILS \n",
    "utils, inspired/copied from:\n",
    "  https://github.com/seffka/ACE2017/blob/master/essentia_chord_utils.py\n",
    "\n",
    "'''\n",
    "\n",
    "def tuning(infile):\n",
    "    hopSize = 2048\n",
    "    frameSize = 8192\n",
    "    loader = MonoLoader(filename=infile)\n",
    "    framecutter = FrameCutter(hopSize=hopSize, frameSize=frameSize)\n",
    "    windowing = Windowing(type=\"blackmanharris62\")\n",
    "    spectrum = Spectrum()\n",
    "    spectralpeaks = SpectralPeaks(orderBy=\"frequency\",\n",
    "                                  magnitudeThreshold=1e-05,\n",
    "                                  minFrequency=40,\n",
    "                                  maxFrequency=5000,\n",
    "                                  maxPeaks=10000)\n",
    "    tuning = TuningFrequency()\n",
    "    # use pool to store data\n",
    "    pool = essentia.Pool()\n",
    "    # connect algorithms together\n",
    "    loader.audio >> framecutter.signal\n",
    "    framecutter.frame >> windowing.frame >> spectrum.frame\n",
    "    spectrum.spectrum >> spectralpeaks.spectrum\n",
    "    spectralpeaks.magnitudes >> tuning.magnitudes\n",
    "    spectralpeaks.frequencies >> tuning.frequencies\n",
    "    tuning.tuningFrequency >> (pool, 'tonal.tuningFrequency')\n",
    "    tuning.tuningCents >> (pool, 'tonal.tuningCents')\n",
    "    # network is ready, run it\n",
    "    print ('Processing audio file...', infile)\n",
    "    essentia.run(loader)\n",
    "    return np.average(pool['tonal.tuningFrequency'])"
   ]
  },
  {
   "cell_type": "code",
   "execution_count": 5,
   "metadata": {},
   "outputs": [],
   "source": [
    "'''\n",
    "Compute Chords by Frames in Essentia \n",
    "utils, inspired/copied from:\n",
    "  https://github.com/seffka/ACE2017/blob/master/essentia_chord_utils.py\n",
    "\n",
    "'''\n",
    "\n",
    "def computeChordsByFrames(filename, frameSize=4096, hopSize=2048, tuningFrequency=440.0):\n",
    "\n",
    "    #TODO:check pools https://essentia.upf.edu/documentation/essentia_python_tutorial.html \n",
    "\n",
    "    pool = essentia.Pool()\n",
    "    loader = essentia.streaming.MonoLoader(filename=filename)\n",
    "    \n",
    "    #get the frames and compute chord detection\n",
    "    fc = FrameCutter(frameSize=frameSize,\n",
    "                     hopSize=hopSize,\n",
    "                     silentFrames='noise')\n",
    "\n",
    "    w = Windowing(type='blackmanharris62')\n",
    "    spec = Spectrum()\n",
    "    spectralpeaks = SpectralPeaks(orderBy=\"magnitude\",\n",
    "                                      magnitudeThreshold=1e-05,\n",
    "                                      minFrequency=40,\n",
    "                                      maxFrequency=5000,\n",
    "                                      maxPeaks=10000)\n",
    "    \n",
    "    #TODO learn: https://essentia.upf.edu/documentation/reference/std_HPCP.html\n",
    "    hpcp = HPCP(\n",
    "        size=12,\n",
    "        referenceFrequency = tuningFrequency,\n",
    "        harmonics = 8,\n",
    "        bandPreset = True,\n",
    "        minFrequency = 40.0,\n",
    "        maxFrequency = 5000.0,\n",
    "        bandSplitFrequency = 250.0,\n",
    "        weightType = \"cosine\",\n",
    "        nonLinear = False,\n",
    "        windowSize = 1.0,\n",
    "        normalized='unitMax')\n",
    "    \n",
    "    #TODO: check parameters https://essentia.upf.edu/documentation/reference/std_ChordsDetection.html\n",
    "    chords = ChordsDetection()\n",
    "    chords_desc = ChordsDescriptors()\n",
    "\n",
    "\n",
    "    # connect algorithms together\n",
    "    loader.audio >> fc.signal\n",
    "    fc.frame >> w.frame >> spec.frame\n",
    "    spec.spectrum >> spectralpeaks.spectrum\n",
    "    spec.spectrum >> (pool, 'spectrum.magnitude') #mine\n",
    "    spectralpeaks.frequencies >> hpcp.frequencies\n",
    "    spectralpeaks.magnitudes >> hpcp.magnitudes\n",
    "    hpcp.hpcp >> (pool, 'chroma.hpcp')  #mine\n",
    "    hpcp.hpcp >> chords.pcp\n",
    "    chords.chords >> (pool, 'chords.chords')\n",
    "    chords.strength >> (pool, 'chords.strength')\n",
    "\n",
    "    essentia.run(loader)\n",
    "\n",
    "    \n",
    "    spectrum= pool['spectrum.magnitude']\n",
    "    chroma= pool['chroma.hpcp']\n",
    "    chords= pool['chords.chords']\n",
    "    chords_strength= pool['chords.strength']\n",
    "    \n",
    "    return spectrum, chroma, chords, chords_strength"
   ]
  },
  {
   "cell_type": "code",
   "execution_count": 6,
   "metadata": {},
   "outputs": [
    {
     "name": "stdout",
     "output_type": "stream",
     "text": [
      "Processing audio file... ./test-audio/Disc 1 - 01 - Maple Leaf Rag.flac\n",
      "song tuning:  442.284\n"
     ]
    },
    {
     "data": {
      "text/plain": [
       "<matplotlib.axes._subplots.AxesSubplot at 0x7f28df542860>"
      ]
     },
     "execution_count": 6,
     "metadata": {},
     "output_type": "execute_result"
    },
    {
     "data": {
      "image/png": "[encoded data removed]",
      "text/plain": [
       "<Figure size 432x288 with 1 Axes>"
      ]
     },
     "metadata": {
      "needs_background": "light"
     },
     "output_type": "display_data"
    }
   ],
   "source": [
    "#TEST\n",
    "testAudio = './test-audio/Disc 1 - 01 - Maple Leaf Rag.flac'\n",
    "\n",
    "#get tuning --> do we need this anyway?\n",
    "song_tuning = tuning(testAudio)\n",
    "print('song tuning: ',song_tuning)\n",
    "\n",
    "(test, test2, chords, test4) = computeChordsByFrames(testAudio, tuningFrequency=song_tuning)\n",
    "\n",
    "#chord histogram\n",
    "chord_counts = Counter(chords)\n",
    "df = pd.DataFrame.from_dict(chord_counts, orient='index')\n",
    "df.plot(kind='bar')\n"
   ]
  },
  {
   "cell_type": "code",
   "execution_count": 87,
   "metadata": {},
   "outputs": [
    {
     "data": {
      "text/plain": [
       "'    \\n    #name, ext = os.path.splitext(outfile)\\n    #YamlOutput(filename=name+\\'.chroma.json\\')(pool)\\n    segments = essentia_chord_utils.toMirexLab(0.0, len(audio) / 44100.0, beats, chords, strengths)\\n    with open(outfile, \\'w\\') as content_file:\\n        for s in segments:\\n            content_file.write(str(s) + \\'\\n\\')\\n            \\n    \\n\\n            \\n\\ntry:\\n    filename = sys.argv[1]\\n    outfile = sys.argv[2]\\nexcept:\\n    print \"usage:\", sys.argv[0], \"<input directory (with audio)> <output lab directory>\"\\n    sys.exit()\\n\\n'"
      ]
     },
     "execution_count": 87,
     "metadata": {},
     "output_type": "execute_result"
    }
   ],
   "source": [
    "'''\n",
    "Compute Chords by Beats in Essentia\n",
    "\n",
    "  https://github.com/seffka/ACE2017/blob/467068d9667de43de8b8b8396e620d9e62a0d85c/essentia_chords_beats.py\n",
    "\n",
    "'''\n",
    "\n",
    "import sys\n",
    "import os\n",
    "from essentia.streaming import *\n",
    "from essentia.standard import YamlOutput\n",
    "from essentia.standard import BeatTrackerMultiFeature\n",
    "from essentia.standard import ChordsDetectionBeats\n",
    "import numpy as np\n",
    "\n",
    "\n",
    "#def computeChordsByFrames(filename, frameSize=4096, hopSize=2048, tuningFrequency=440.0):\n",
    "\n",
    "def chordBeats(filename, hopSize=4096, frameSize=8192, tuningFrequency=440.0):\n",
    "    \n",
    "    # use pool to store data\n",
    "    pool = essentia.Pool()\n",
    "    # initialize algorithms we will use\n",
    "    loader = MonoLoader(filename=filename)\n",
    "    framecutter = FrameCutter(hopSize=hopSize, frameSize=frameSize)\n",
    "    windowing = Windowing(type=\"blackmanharris62\")\n",
    "    spectrum = Spectrum()\n",
    "    spectralpeaks = SpectralPeaks(orderBy=\"magnitude\",\n",
    "                                  magnitudeThreshold=1e-05,\n",
    "                                  minFrequency=40,\n",
    "                                  maxFrequency=5000,\n",
    "                                  maxPeaks=10000)\n",
    "    hpcp = HPCP(size=12,\n",
    "                referenceFrequency = tuningFrequency,\n",
    "                harmonics = 8,\n",
    "                bandPreset = True,\n",
    "                minFrequency = 40.0,\n",
    "                maxFrequency = 5000.0,\n",
    "                bandSplitFrequency = 500.0,\n",
    "                weightType = \"cosine\",\n",
    "                nonLinear = True,\n",
    "                windowSize = 1.0)\n",
    "\n",
    "    # connect algorithms together\n",
    "    loader.audio >> framecutter.signal\n",
    "    framecutter.frame >> windowing.frame >> spectrum.frame\n",
    "    spectrum.spectrum >> spectralpeaks.spectrum\n",
    "    spectralpeaks.magnitudes >> hpcp.magnitudes\n",
    "    spectralpeaks.frequencies >> hpcp.frequencies\n",
    "    hpcp.hpcp >> (pool, 'chroma.hpcp')\n",
    "\n",
    "    ## network is ready, run it\n",
    "    essentia.run(loader)\n",
    "    ## don't forget, we can actually instantiate and call an algorithm on the same line!\n",
    "\n",
    "    print('Loading audio file...', filename)\n",
    "    audio = essentia.standard.MonoLoader(filename = filename)()\n",
    "    bt = BeatTrackerMultiFeature()\n",
    "    beats, confidence = bt(audio)\n",
    "    \n",
    "    #ticks = beats[::4] # TODO: we now take one of 4 each beats, not good\n",
    "    print(\"number of beats\", len(beats))\n",
    "\n",
    "    chordBeats = ChordsDetectionBeats(hopSize=hopSize)\n",
    "    chords, strengths = chordBeats(pool['chroma.hpcp'], beats)\n",
    "    #print('size: ', len(pool['chroma.hpcp']))\n",
    "    return chords, strengths, beats\n",
    "    \n",
    "    \n",
    "    \n",
    "    \n",
    "    \n",
    "    \n",
    "'''    \n",
    "    #name, ext = os.path.splitext(outfile)\n",
    "    #YamlOutput(filename=name+'.chroma.json')(pool)\n",
    "    segments = essentia_chord_utils.toMirexLab(0.0, len(audio) / 44100.0, beats, chords, strengths)\n",
    "    with open(outfile, 'w') as content_file:\n",
    "        for s in segments:\n",
    "            content_file.write(str(s) + '\\n')\n",
    "            \n",
    "    \n",
    "\n",
    "            \n",
    "\n",
    "try:\n",
    "    filename = sys.argv[1]\n",
    "    outfile = sys.argv[2]\n",
    "except:\n",
    "    print \"usage:\", sys.argv[0], \"<input directory (with audio)> <output lab directory>\"\n",
    "    sys.exit()\n",
    "\n",
    "'''\n",
    "    \n",
    "\n",
    "\n",
    "#essentia_chord_utils.processFiles(infile, outfile, chordBeats)\n",
    "#chordBeats(\"test.lab\")"
   ]
  },
  {
   "cell_type": "code",
   "execution_count": 88,
   "metadata": {},
   "outputs": [
    {
     "name": "stdout",
     "output_type": "stream",
     "text": [
      "Processing audio file... ./test-audio/Disc 1 - 01 - Maple Leaf Rag.flac\n",
      "song tuning:  442.284\n",
      "Loading audio file... ./test-audio/Disc 1 - 01 - Maple Leaf Rag.flac\n",
      "number of beats 300\n",
      "chords obtained:  299\n"
     ]
    },
    {
     "data": {
      "text/plain": [
       "<matplotlib.axes._subplots.AxesSubplot at 0x7f28db39e550>"
      ]
     },
     "execution_count": 88,
     "metadata": {},
     "output_type": "execute_result"
    },
    {
     "data": {
      "image/png": "[encoded data removed]",
      "text/plain": [
       "<Figure size 432x288 with 1 Axes>"
      ]
     },
     "metadata": {
      "needs_background": "light"
     },
     "output_type": "display_data"
    }
   ],
   "source": [
    "#TEST chordBeats\n",
    "testAudio = './test-audio/Disc 1 - 01 - Maple Leaf Rag.flac'\n",
    "\n",
    "#get tuning --> do we need this anyway?\n",
    "song_tuning = tuning(testAudio)\n",
    "print('song tuning: ',song_tuning)\n",
    "\n",
    "(chords, strengths, beats) = chordBeats(testAudio, tuningFrequency=song_tuning)\n",
    "\n",
    "print(\"chords obtained: \" , len(chords))\n",
    "\n",
    "#chord histogram\n",
    "chord_counts = Counter(chords)\n",
    "df = pd.DataFrame.from_dict(chord_counts, orient='index')\n",
    "df.plot(kind='bar')\n",
    "\n",
    "\n"
   ]
  },
  {
   "cell_type": "code",
   "execution_count": 43,
   "metadata": {},
   "outputs": [
    {
     "data": {
      "text/plain": [
       "75"
      ]
     },
     "execution_count": 43,
     "metadata": {},
     "output_type": "execute_result"
    }
   ],
   "source": [
    "len(beats[::4])"
   ]
  },
  {
   "cell_type": "code",
   "execution_count": null,
   "metadata": {},
   "outputs": [],
   "source": [
    "#mir_eval interesting funtions\n",
    "\n",
    "mir_eval.chord.validate_chord_label\n",
    "#If no chord is present at a given point in time, it should have the label ‘N’, which is defined in the variable \n",
    "mir_eval.chord.NO_CHORD\n",
    "\n",
    "When converting the chord string into its constituent parts,\n",
    "\n",
    "Pitch class counting starts at C, e.g. C:0, D:2, E:4, F:5, etc.\n",
    "Scale degree is represented as a string of the diatonic interval, relative to the root note, e.g. ‘b6’, ‘#5’, or ‘7’\n",
    "Bass intervals are represented as strings\n",
    "Chord bitmaps are positional binary vectors indicating active pitch classes and may be absolute or relative depending on context in the code.\n",
    "\n",
    "\n"
   ]
  },
  {
   "cell_type": "code",
   "execution_count": null,
   "metadata": {},
   "outputs": [],
   "source": []
  },
  {
   "cell_type": "code",
   "execution_count": 97,
   "metadata": {},
   "outputs": [
    {
     "data": {
      "text/plain": [
       "<module 'mir_eval' from '/essentia/src/mir-eval/mir_eval/__init__.py'>"
      ]
     },
     "execution_count": 97,
     "metadata": {},
     "output_type": "execute_result"
    }
   ],
   "source": [
    "import mir_eval\n",
    "mir_eval"
   ]
  },
  {
   "cell_type": "code",
   "execution_count": 98,
   "metadata": {},
   "outputs": [],
   "source": [
    "QUALITIES = {\n",
    "    #           1     2     3     4  5     6     7\n",
    "    'maj':     [1, 0, 0, 0, 1, 0, 0, 1, 0, 0, 0, 0],\n",
    "    'min':     [1, 0, 0, 1, 0, 0, 0, 1, 0, 0, 0, 0],\n",
    "    'aug':     [1, 0, 0, 0, 1, 0, 0, 0, 1, 0, 0, 0],\n",
    "    'dim':     [1, 0, 0, 1, 0, 0, 1, 0, 0, 0, 0, 0],\n",
    "    'sus4':    [1, 0, 0, 0, 0, 1, 0, 1, 0, 0, 0, 0],\n",
    "    'sus2':    [1, 0, 1, 0, 0, 0, 0, 1, 0, 0, 0, 0],\n",
    "    '7':       [1, 0, 0, 0, 1, 0, 0, 1, 0, 0, 1, 0],\n",
    "    'maj7':    [1, 0, 0, 0, 1, 0, 0, 1, 0, 0, 0, 1],\n",
    "    'min7':    [1, 0, 0, 1, 0, 0, 0, 1, 0, 0, 1, 0],\n",
    "    'minmaj7': [1, 0, 0, 1, 0, 0, 0, 1, 0, 0, 0, 1],\n",
    "    'maj6':    [1, 0, 0, 0, 1, 0, 0, 1, 0, 1, 0, 0],\n",
    "    'min6':    [1, 0, 0, 1, 0, 0, 0, 1, 0, 1, 0, 0],\n",
    "    'dim7':    [1, 0, 0, 1, 0, 0, 1, 0, 0, 1, 0, 0],\n",
    "    'hdim7':   [1, 0, 0, 1, 0, 0, 1, 0, 0, 0, 1, 0],\n",
    "    'maj9':    [1, 0, 0, 0, 1, 0, 0, 1, 0, 0, 0, 1],\n",
    "    'min9':    [1, 0, 0, 1, 0, 0, 0, 1, 0, 0, 1, 0],\n",
    "    '9':       [1, 0, 0, 0, 1, 0, 0, 1, 0, 0, 1, 0],\n",
    "    'b9':      [1, 0, 0, 0, 1, 0, 0, 1, 0, 0, 1, 0],\n",
    "    '#9':      [1, 0, 0, 0, 1, 0, 0, 1, 0, 0, 1, 0],\n",
    "    'min11':   [1, 0, 0, 1, 0, 0, 0, 1, 0, 0, 1, 0],\n",
    "    '11':      [1, 0, 0, 0, 1, 0, 0, 1, 0, 0, 1, 0],\n",
    "    '#11':     [1, 0, 0, 0, 1, 0, 0, 1, 0, 0, 1, 0],\n",
    "    'maj13':   [1, 0, 0, 0, 1, 0, 0, 1, 0, 0, 0, 1],\n",
    "    'min13':   [1, 0, 0, 1, 0, 0, 0, 1, 0, 0, 1, 0],\n",
    "    '13':      [1, 0, 0, 0, 1, 0, 0, 1, 0, 0, 1, 0],\n",
    "    'b13':     [1, 0, 0, 0, 1, 0, 0, 1, 0, 0, 1, 0],\n",
    "    '1':       [1, 0, 0, 0, 0, 0, 0, 0, 0, 0, 0, 0],\n",
    "    '5':       [1, 0, 0, 0, 0, 0, 0, 1, 0, 0, 0, 0],\n",
    "    '':        [0, 0, 0, 0, 0, 0, 0, 0, 0, 0, 0, 0]}"
   ]
  },
  {
   "cell_type": "code",
   "execution_count": null,
   "metadata": {},
   "outputs": [],
   "source": []
  }
 ],
 "metadata": {
  "kernelspec": {
   "display_name": "Python 3",
   "language": "python",
   "name": "python3"
  },
  "language_info": {
   "codemirror_mode": {
    "name": "ipython",
    "version": 3
   },
   "file_extension": ".py",
   "mimetype": "text/x-python",
   "name": "python",
   "nbconvert_exporter": "python",
   "pygments_lexer": "ipython3",
   "version": "3.5.2"
  }
 },
 "nbformat": 4,
 "nbformat_minor": 2
}
