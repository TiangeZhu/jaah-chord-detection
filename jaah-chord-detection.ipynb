{
 "cells": [
  {
   "cell_type": "code",
   "execution_count": null,
   "metadata": {},
   "outputs": [],
   "source": [
    "#TODO remove\n",
    "interesting code:\n",
    "#: https://github.com/reeanne/FinalProject/blob/cef6b45060ad9646f2be4de93c226aebeadec41b/essentia-master/src/examples/python/streaming_extractor/tonaldescriptors.py\n",
    "#https://github.com/LqNoob/Essentia/blob/7a70a25dd6668855b3677bd0cae0df190e319cbf/test/src/unittest/tonal/test_chordsdetection_streaming.py\n",
    "#∫imple one https://github.com/mariogearth/ChordsDetectionPython/blob/b69e813bef92a361e7cad0a58bbd0f049b252914/old%20stuff/chords_test3.py"
   ]
  },
  {
   "cell_type": "code",
   "execution_count": null,
   "metadata": {},
   "outputs": [],
   "source": [
    "#check student notebook later for loadChromaAndSpectrum "
   ]
  },
  {
   "cell_type": "code",
   "execution_count": 1,
   "metadata": {},
   "outputs": [],
   "source": [
    "import sys, os\n",
    "import essentia, essentia.standard, essentia.streaming\n",
    "from essentia.streaming import *"
   ]
  },
  {
   "cell_type": "code",
   "execution_count": 5,
   "metadata": {},
   "outputs": [],
   "source": [
    "def computeChords(filename, frameSize=4096, hopSize=2048, tuningFrequency=440.0):\n",
    "    \n",
    "    pool = essentia.Pool()\n",
    "    loader = essentia.streaming.MonoLoader(filename=filename)\n",
    "\n",
    "    #loader = esstr.MonoLoader(filename = filename)\n",
    "    #framecutter = esstr.FrameCutter(hopSize=hopSize, frameSize=frameSize)\n",
    "    \n",
    "    #get the frames and compute chord detection\n",
    "    fc = FrameCutter(frameSize=frameSize,\n",
    "                     hopSize=hopSize,\n",
    "                     silentFrames='noise')\n",
    "\n",
    "    w = Windowing(type='blackmanharris62')\n",
    "    spec = Spectrum()\n",
    "    spectralpeaks = SpectralPeaks(orderBy=\"magnitude\",\n",
    "                                      magnitudeThreshold=1e-05,\n",
    "                                      minFrequency=40,\n",
    "                                      maxFrequency=5000,\n",
    "                                      maxPeaks=10000)\n",
    "    \n",
    "    #TODO: https://essentia.upf.edu/documentation/reference/std_HPCP.html\n",
    "    hpcp = HPCP(\n",
    "        size=12,\n",
    "        referenceFrequency = tuningFrequency,\n",
    "        harmonics = 8,\n",
    "        bandPreset = True,\n",
    "        minFrequency = 40.0,\n",
    "        maxFrequency = 5000.0,\n",
    "        bandSplitFrequency = 250.0,\n",
    "        weightType = \"cosine\",\n",
    "        nonLinear = False,\n",
    "        windowSize = 1.0,\n",
    "        normalized='unitSum')\n",
    "    \n",
    "    #TODO: check parameters https://essentia.upf.edu/documentation/reference/std_ChordsDetection.html\n",
    "    chords = ChordsDetection()\n",
    "    chords_desc = ChordsDescriptors()\n",
    "\n",
    "\n",
    "    # connect algorithms together\n",
    "    loader.audio >> fc.signal\n",
    "    fc.frame >> w.frame >> spec.frame\n",
    "    spec.spectrum >> spectralpeaks.spectrum\n",
    "    spec.spectrum >> (pool, 'spectrum.magnitude') #mine\n",
    "    spectralpeaks.frequencies >> hpcp.frequencies\n",
    "    spectralpeaks.magnitudes >> hpcp.magnitudes\n",
    "    hpcp.hpcp >> (pool, 'chroma.hpcp')  #mine\n",
    "    hpcp.hpcp >> chords.pcp\n",
    "    chords.chords >> (pool, 'chords.chords')\n",
    "    chords.strength >> (pool, 'chords.strength')\n",
    "    #hpcp_key.hpcp >> key.pcp\n",
    "    #peaks.frequencies >> hpcp_chord.frequencies\n",
    "    #peaks.magnitudes >> hpcp_chord.magnitudes\n",
    "    #hpcp_chord.hpcp >> chords.pcp\n",
    "    #chords.chords >> chords_desc.chords\n",
    "    #key.key >> chords_desc.key\n",
    "    #key.scale >> chords_desc.scale\n",
    "    #peaks.frequencies >> hpcp_tuning.frequencies\n",
    "    #peaks.magnitudes >> hpcp_tuning.magnitudes\n",
    "    \n",
    "    \n",
    "    \n",
    "    #hpcp_key.hpcp >>(pool, 'chroma.hpcp')\n",
    "\n",
    "\n",
    "    \n",
    "    #TODO:check pools https://essentia.upf.edu/documentation/essentia_python_tutorial.html \n",
    "    essentia.run(loader)\n",
    "\n",
    "    \n",
    "    test= pool['spectrum.magnitude']\n",
    "    test2= pool['chroma.hpcp']\n",
    "    test3= pool['chords.chords']\n",
    "    test4= pool['chords.strength']\n",
    "    \n",
    "    return test, test2, test3, test4"
   ]
  },
  {
   "cell_type": "code",
   "execution_count": null,
   "metadata": {},
   "outputs": [],
   "source": []
  },
  {
   "cell_type": "code",
   "execution_count": null,
   "metadata": {},
   "outputs": [],
   "source": [
    "loader"
   ]
  },
  {
   "cell_type": "code",
   "execution_count": 6,
   "metadata": {},
   "outputs": [],
   "source": [
    "testAudio = './test-audio/Disc 1 - 01 - Maple Leaf Rag.flac'\n",
    "(test, test2, test3, test4) =computeChords(testAudio)"
   ]
  },
  {
   "cell_type": "code",
   "execution_count": 12,
   "metadata": {},
   "outputs": [
    {
     "ename": "AttributeError",
     "evalue": "'list' object has no attribute 'shape'",
     "output_type": "error",
     "traceback": [
      "\u001b[0;31m---------------------------------------------------------------------------\u001b[0m",
      "\u001b[0;31mAttributeError\u001b[0m                            Traceback (most recent call last)",
      "\u001b[0;32m<ipython-input-12-4f6b94ba27f3>\u001b[0m in \u001b[0;36m<module>\u001b[0;34m()\u001b[0m\n\u001b[0;32m----> 1\u001b[0;31m \u001b[0mtest3\u001b[0m\u001b[0;34m.\u001b[0m\u001b[0mshape\u001b[0m\u001b[0;34m\u001b[0m\u001b[0m\n\u001b[0m",
      "\u001b[0;31mAttributeError\u001b[0m: 'list' object has no attribute 'shape'"
     ]
    }
   ],
   "source": [
    "test.shape\n"
   ]
  },
  {
   "cell_type": "code",
   "execution_count": null,
   "metadata": {},
   "outputs": [],
   "source": [
    "0.00001"
   ]
  },
  {
   "cell_type": "code",
   "execution_count": null,
   "metadata": {},
   "outputs": [],
   "source": []
  }
 ],
 "metadata": {
  "kernelspec": {
   "display_name": "Python 3",
   "language": "python",
   "name": "python3"
  },
  "language_info": {
   "codemirror_mode": {
    "name": "ipython",
    "version": 3
   },
   "file_extension": ".py",
   "mimetype": "text/x-python",
   "name": "python",
   "nbconvert_exporter": "python",
   "pygments_lexer": "ipython3",
   "version": "3.5.2"
  }
 },
 "nbformat": 4,
 "nbformat_minor": 2
}
