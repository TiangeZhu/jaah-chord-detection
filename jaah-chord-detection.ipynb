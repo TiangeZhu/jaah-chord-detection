{
 "cells": [
  {
   "cell_type": "code",
   "execution_count": null,
   "metadata": {},
   "outputs": [],
   "source": [
    "#TODO remove\n",
    "interesting code:\n",
    "#: https://github.com/reeanne/FinalProject/blob/cef6b45060ad9646f2be4de93c226aebeadec41b/essentia-master/src/examples/python/streaming_extractor/tonaldescriptors.py\n",
    "#https://github.com/LqNoob/Essentia/blob/7a70a25dd6668855b3677bd0cae0df190e319cbf/test/src/unittest/tonal/test_chordsdetection_streaming.py\n",
    "#∫imple one https://github.com/mariogearth/ChordsDetectionPython/blob/b69e813bef92a361e7cad0a58bbd0f049b252914/old%20stuff/chords_test3.py"
   ]
  },
  {
   "cell_type": "code",
   "execution_count": null,
   "metadata": {},
   "outputs": [],
   "source": [
    "#check student notebook later for loadChromaAndSpectrum "
   ]
  },
  {
   "cell_type": "code",
   "execution_count": 33,
   "metadata": {},
   "outputs": [],
   "source": [
    "import sys, os\n",
    "import numpy as np\n",
    "import pandas as pd\n",
    "from collections import Counter\n",
    "\n",
    "import matplotlib\n",
    "import matplotlib.pyplot as plt\n",
    "from matplotlib.patches import Polygon\n",
    "from matplotlib.collections import PatchCollection\n",
    "%matplotlib inline\n",
    "\n",
    "import essentia, essentia.standard, essentia.streaming\n",
    "import essentia.standard as ess\n",
    "from essentia.streaming import *"
   ]
  },
  {
   "cell_type": "code",
   "execution_count": 18,
   "metadata": {},
   "outputs": [],
   "source": [
    "def computeChords(filename, frameSize=4096, hopSize=2048, tuningFrequency=440.0):\n",
    "\n",
    "    #TODO:check pools https://essentia.upf.edu/documentation/essentia_python_tutorial.html \n",
    "\n",
    "    pool = essentia.Pool()\n",
    "    loader = essentia.streaming.MonoLoader(filename=filename)\n",
    "    \n",
    "    #get the frames and compute chord detection\n",
    "    fc = FrameCutter(frameSize=frameSize,\n",
    "                     hopSize=hopSize,\n",
    "                     silentFrames='noise')\n",
    "\n",
    "    w = Windowing(type='blackmanharris62')\n",
    "    spec = Spectrum()\n",
    "    spectralpeaks = SpectralPeaks(orderBy=\"magnitude\",\n",
    "                                      magnitudeThreshold=1e-05,\n",
    "                                      minFrequency=40,\n",
    "                                      maxFrequency=5000,\n",
    "                                      maxPeaks=10000)\n",
    "    \n",
    "    #TODO learn: https://essentia.upf.edu/documentation/reference/std_HPCP.html\n",
    "    hpcp = HPCP(\n",
    "        size=12,\n",
    "        referenceFrequency = tuningFrequency,\n",
    "        harmonics = 8,\n",
    "        bandPreset = True,\n",
    "        minFrequency = 40.0,\n",
    "        maxFrequency = 5000.0,\n",
    "        bandSplitFrequency = 250.0,\n",
    "        weightType = \"cosine\",\n",
    "        nonLinear = False,\n",
    "        windowSize = 1.0,\n",
    "        normalized='unitSum')\n",
    "    \n",
    "    #TODO: check parameters https://essentia.upf.edu/documentation/reference/std_ChordsDetection.html\n",
    "    chords = ChordsDetection()\n",
    "    chords_desc = ChordsDescriptors()\n",
    "\n",
    "\n",
    "    # connect algorithms together\n",
    "    loader.audio >> fc.signal\n",
    "    fc.frame >> w.frame >> spec.frame\n",
    "    spec.spectrum >> spectralpeaks.spectrum\n",
    "    spec.spectrum >> (pool, 'spectrum.magnitude') #mine\n",
    "    spectralpeaks.frequencies >> hpcp.frequencies\n",
    "    spectralpeaks.magnitudes >> hpcp.magnitudes\n",
    "    hpcp.hpcp >> (pool, 'chroma.hpcp')  #mine\n",
    "    hpcp.hpcp >> chords.pcp\n",
    "    chords.chords >> (pool, 'chords.chords')\n",
    "    chords.strength >> (pool, 'chords.strength')\n",
    "\n",
    "    essentia.run(loader)\n",
    "\n",
    "    \n",
    "    spectrum= pool['spectrum.magnitude']\n",
    "    chroma= pool['chroma.hpcp']\n",
    "    chords= pool['chords.chords']\n",
    "    chords_strength= pool['chords.strength']\n",
    "    \n",
    "    return spectrum, chroma, chords, chords_strength"
   ]
  },
  {
   "cell_type": "code",
   "execution_count": 41,
   "metadata": {},
   "outputs": [
    {
     "data": {
      "text/plain": [
       "<matplotlib.axes._subplots.AxesSubplot at 0x7fb8bdc751d0>"
      ]
     },
     "execution_count": 41,
     "metadata": {},
     "output_type": "execute_result"
    },
    {
     "data": {
      "image/png": "[encoded data removed]",
      "text/plain": [
       "<Figure size 432x288 with 1 Axes>"
      ]
     },
     "metadata": {
      "needs_background": "light"
     },
     "output_type": "display_data"
    }
   ],
   "source": [
    "#test\n",
    "testAudio = './test-audio/Disc 1 - 01 - Maple Leaf Rag.flac'\n",
    "(test, test2, chords, test4) =computeChords(testAudio)\n",
    "\n",
    "#chord histogram\n",
    "chord_counts = Counter(chords)\n",
    "df = pd.DataFrame.from_dict(chord_counts, orient='index')\n",
    "df.plot(kind='bar')"
   ]
  },
  {
   "cell_type": "code",
   "execution_count": null,
   "metadata": {},
   "outputs": [],
   "source": []
  }
 ],
 "metadata": {
  "kernelspec": {
   "display_name": "Python 3",
   "language": "python",
   "name": "python3"
  },
  "language_info": {
   "codemirror_mode": {
    "name": "ipython",
    "version": 3
   },
   "file_extension": ".py",
   "mimetype": "text/x-python",
   "name": "python",
   "nbconvert_exporter": "python",
   "pygments_lexer": "ipython3",
   "version": "3.5.2"
  }
 },
 "nbformat": 4,
 "nbformat_minor": 2
}
